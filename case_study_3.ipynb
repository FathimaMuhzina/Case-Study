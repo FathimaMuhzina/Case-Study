{
 "cells": [
  {
   "cell_type": "code",
   "execution_count": 1,
   "id": "b5e06281",
   "metadata": {},
   "outputs": [],
   "source": [
    "import numpy as np\n",
    "import pandas as pd"
   ]
  },
  {
   "cell_type": "code",
   "execution_count": 2,
   "id": "802c113a",
   "metadata": {},
   "outputs": [],
   "source": [
    "sales=pd.read_csv('Sales_add.csv')"
   ]
  },
  {
   "cell_type": "code",
   "execution_count": 3,
   "id": "3e92241f",
   "metadata": {},
   "outputs": [
    {
     "data": {
      "text/plain": [
       "Month                             22\n",
       "Region                            22\n",
       "Manager                           22\n",
       "Sales_before_digital_add(in $)    22\n",
       "Sales_After_digital_add(in $)     22\n",
       "dtype: int64"
      ]
     },
     "execution_count": 3,
     "metadata": {},
     "output_type": "execute_result"
    }
   ],
   "source": [
    "sales.count()"
   ]
  },
  {
   "cell_type": "markdown",
   "id": "7c8a213c",
   "metadata": {},
   "source": [
    "# Does digital marketing increases sales?"
   ]
  },
  {
   "cell_type": "markdown",
   "id": "ea1f3d82",
   "metadata": {},
   "source": [
    "    Since the sample size is less than 30, we use a t-test.\n",
    "    Here, we have to test the significant difference before and after digital marketing.\n",
    "    Therefore, we use paired t-test.\n",
    "    Also, here we have to check whether there is any increase in sales. \n",
    "    Therefore, it's one-tailed.\n",
    "    \n",
    "    Null Hypothesis: Sales before and after digital marketing are same.\n",
    "    Alternative Hypothesis: Sales increases after digital marketing.\n",
    "    \n",
    "    4 Assumptions to be satisfied:\n",
    "    \n",
    "    1.The distribution should be normal.\n",
    "    2.The dependent variable must be continuous.\n",
    "    3.There should not be any significant outliers.\n",
    "    4.The observations are independent."
   ]
  },
  {
   "cell_type": "code",
   "execution_count": 51,
   "id": "dbdbefab",
   "metadata": {},
   "outputs": [],
   "source": [
    "# Checking for outliers"
   ]
  },
  {
   "cell_type": "code",
   "execution_count": 76,
   "id": "b0120d2b",
   "metadata": {},
   "outputs": [
    {
     "data": {
      "image/png": "[encoded data removed]",
      "text/plain": [
       "<Figure size 432x288 with 1 Axes>"
      ]
     },
     "metadata": {
      "needs_background": "light"
     },
     "output_type": "display_data"
    }
   ],
   "source": [
    "import matplotlib.pyplot as plt\n",
    "plt.boxplot(sales['Sales_before_digital_add(in $)'])\n",
    "plt.boxplot(sales['Sales_After_digital_add(in $)'])\n",
    "plt.show()"
   ]
  },
  {
   "cell_type": "code",
   "execution_count": 52,
   "id": "64e235c2",
   "metadata": {},
   "outputs": [],
   "source": [
    "# Checking normality"
   ]
  },
  {
   "cell_type": "code",
   "execution_count": 55,
   "id": "14f2eab7",
   "metadata": {},
   "outputs": [
    {
     "data": {
      "text/plain": [
       "(array([3., 1., 2., 1., 5., 2., 2., 3., 1., 2.]),\n",
       " array([187305. , 196202.4, 205099.8, 213997.2, 222894.6, 231792. ,\n",
       "        240689.4, 249586.8, 258484.2, 267381.6, 276279. ]),\n",
       " <BarContainer object of 10 artists>)"
      ]
     },
     "execution_count": 55,
     "metadata": {},
     "output_type": "execute_result"
    },
    {
     "data": {
      "image/png": "[encoded data removed]",
      "text/plain": [
       "<Figure size 432x288 with 1 Axes>"
      ]
     },
     "metadata": {
      "needs_background": "light"
     },
     "output_type": "display_data"
    }
   ],
   "source": [
    "plt.hist(sales['Sales_before_digital_add(in $)'])\n",
    "plt.hist(sales['Sales_After_digital_add(in $)'])"
   ]
  },
  {
   "cell_type": "markdown",
   "id": "9776b650",
   "metadata": {},
   "source": [
    "    Since the histogram doesn't look normal, we can test it statistically using Shapiro-Wilk test for normality.\n",
    "    In this test, it is assumed that the distribution is normal. So, if p-value<0.05, we can reject this assumption. \n",
    "    Otherwise, the distribution is considered as normal."
   ]
  },
  {
   "cell_type": "code",
   "execution_count": 57,
   "id": "ffbd3b34",
   "metadata": {},
   "outputs": [
    {
     "data": {
      "text/plain": [
       "ShapiroResult(statistic=0.9306764006614685, pvalue=0.12674309313297272)"
      ]
     },
     "execution_count": 57,
     "metadata": {},
     "output_type": "execute_result"
    }
   ],
   "source": [
    "stats.shapiro(sales['Sales_before_digital_add(in $)'])"
   ]
  },
  {
   "cell_type": "code",
   "execution_count": 58,
   "id": "8d7231f2",
   "metadata": {},
   "outputs": [
    {
     "data": {
      "text/plain": [
       "ShapiroResult(statistic=0.9702128767967224, pvalue=0.7159645557403564)"
      ]
     },
     "execution_count": 58,
     "metadata": {},
     "output_type": "execute_result"
    }
   ],
   "source": [
    "stats.shapiro(sales['Sales_After_digital_add(in $)'])"
   ]
  },
  {
   "cell_type": "markdown",
   "id": "e850413e",
   "metadata": {},
   "source": [
    "    Since both test results show that the p-value>=0.05, we can consider the distribution as normal."
   ]
  },
  {
   "cell_type": "code",
   "execution_count": null,
   "id": "0c347e63",
   "metadata": {},
   "outputs": [],
   "source": [
    "# Paired t test"
   ]
  },
  {
   "cell_type": "code",
   "execution_count": 116,
   "id": "c9f18f52",
   "metadata": {},
   "outputs": [
    {
     "data": {
      "text/plain": [
       "(12.09070525287017, 3.168333502287889e-11)"
      ]
     },
     "execution_count": 116,
     "metadata": {},
     "output_type": "execute_result"
    }
   ],
   "source": [
    "import scipy.stats as stats\n",
    "tscore,pvalue=stats.ttest_rel(sales['Sales_After_digital_add(in $)'],sales['Sales_before_digital_add(in $)'],alternative='greater')\n",
    "tscore,pvalue"
   ]
  },
  {
   "cell_type": "markdown",
   "id": "9dc939fe",
   "metadata": {},
   "source": [
    "    Significance level = 5% = 0.05\n",
    "    Degrees of freedom = n-1 = 22-1 =21\n",
    "    \n",
    "    Since we have to check for increase in sales, a right-tailed critical value should be obtained.\n",
    "    For that, q=1-0.05 (for 5%) "
   ]
  },
  {
   "cell_type": "code",
   "execution_count": 117,
   "id": "f72ce04d",
   "metadata": {},
   "outputs": [
    {
     "data": {
      "text/plain": [
       "1.7207429028118775"
      ]
     },
     "execution_count": 117,
     "metadata": {},
     "output_type": "execute_result"
    }
   ],
   "source": [
    "t_critic=stats.t.ppf(1-0.05,21)\n",
    "t_critic"
   ]
  },
  {
   "cell_type": "code",
   "execution_count": 118,
   "id": "8babc486",
   "metadata": {},
   "outputs": [
    {
     "name": "stdout",
     "output_type": "stream",
     "text": [
      "We can reject the null hypothesis\n",
      "There is increase in sales after digital marketing\n"
     ]
    }
   ],
   "source": [
    "if(tscore>t_critic and pvalue<0.05):\n",
    "    print('We can reject the null hypothesis\\nThere is increase in sales after digital marketing')\n",
    "else:\n",
    "    print('We cannot reject the null hypothesis\\nSales remains same after digital marketing')"
   ]
  },
  {
   "cell_type": "markdown",
   "id": "8e0396f1",
   "metadata": {},
   "source": [
    "#    Dependency between 'Region' and 'Manager'"
   ]
  },
  {
   "cell_type": "markdown",
   "id": "1feca168",
   "metadata": {},
   "source": [
    "    This can be checked by using a Chi-Square test for independence.\n",
    "    Null Hypothesis: 'Region' and 'Manager' are independent.\n",
    "    Alternative Hypothesis: They are dependent.\n",
    "    This test needs to have the contingency table."
   ]
  },
  {
   "cell_type": "code",
   "execution_count": 78,
   "id": "870226bf",
   "metadata": {},
   "outputs": [],
   "source": [
    "# Contingency table"
   ]
  },
  {
   "cell_type": "code",
   "execution_count": 85,
   "id": "880a4102",
   "metadata": {},
   "outputs": [
    {
     "data": {
      "text/html": [
       "<div>\n",
       "<style scoped>\n",
       "    .dataframe tbody tr th:only-of-type {\n",
       "        vertical-align: middle;\n",
       "    }\n",
       "\n",
       "    .dataframe tbody tr th {\n",
       "        vertical-align: top;\n",
       "    }\n",
       "\n",
       "    .dataframe thead th {\n",
       "        text-align: right;\n",
       "    }\n",
       "</style>\n",
       "<table border=\"1\" class=\"dataframe\">\n",
       "  <thead>\n",
       "    <tr style=\"text-align: right;\">\n",
       "      <th>Manager</th>\n",
       "      <th>Manager - A</th>\n",
       "      <th>Manager - B</th>\n",
       "      <th>Manager - C</th>\n",
       "      <th>All</th>\n",
       "    </tr>\n",
       "    <tr>\n",
       "      <th>Region</th>\n",
       "      <th></th>\n",
       "      <th></th>\n",
       "      <th></th>\n",
       "      <th></th>\n",
       "    </tr>\n",
       "  </thead>\n",
       "  <tbody>\n",
       "    <tr>\n",
       "      <th>Region - A</th>\n",
       "      <td>4</td>\n",
       "      <td>3</td>\n",
       "      <td>3</td>\n",
       "      <td>10</td>\n",
       "    </tr>\n",
       "    <tr>\n",
       "      <th>Region - B</th>\n",
       "      <td>4</td>\n",
       "      <td>1</td>\n",
       "      <td>2</td>\n",
       "      <td>7</td>\n",
       "    </tr>\n",
       "    <tr>\n",
       "      <th>Region - C</th>\n",
       "      <td>1</td>\n",
       "      <td>3</td>\n",
       "      <td>1</td>\n",
       "      <td>5</td>\n",
       "    </tr>\n",
       "    <tr>\n",
       "      <th>All</th>\n",
       "      <td>9</td>\n",
       "      <td>7</td>\n",
       "      <td>6</td>\n",
       "      <td>22</td>\n",
       "    </tr>\n",
       "  </tbody>\n",
       "</table>\n",
       "</div>"
      ],
      "text/plain": [
       "Manager     Manager - A  Manager - B  Manager - C  All\n",
       "Region                                                \n",
       "Region - A            4            3            3   10\n",
       "Region - B            4            1            2    7\n",
       "Region - C            1            3            1    5\n",
       "All                   9            7            6   22"
      ]
     },
     "execution_count": 85,
     "metadata": {},
     "output_type": "execute_result"
    }
   ],
   "source": [
    "cont=pd.crosstab(sales.Region, sales.Manager, margins=True)\n",
    "cont"
   ]
  },
  {
   "cell_type": "code",
   "execution_count": null,
   "id": "fae2fddf",
   "metadata": {},
   "outputs": [],
   "source": [
    "# Finding observed frequencies"
   ]
  },
  {
   "cell_type": "code",
   "execution_count": 88,
   "id": "fb7d16df",
   "metadata": {},
   "outputs": [
    {
     "data": {
      "text/plain": [
       "array([[4, 3, 3],\n",
       "       [4, 1, 2],\n",
       "       [1, 3, 1]], dtype=int64)"
      ]
     },
     "execution_count": 88,
     "metadata": {},
     "output_type": "execute_result"
    }
   ],
   "source": [
    "obs = np.array([cont.iloc[0][0:3].values,\n",
    "                cont.iloc[1][0:3].values,\n",
    "                cont.iloc[2][0:3].values])\n",
    "obs"
   ]
  },
  {
   "cell_type": "code",
   "execution_count": 93,
   "id": "d6becae5",
   "metadata": {},
   "outputs": [],
   "source": [
    "# Finding Chi-Square value, p-value, degrees of freedom and expected frequencies"
   ]
  },
  {
   "cell_type": "code",
   "execution_count": 124,
   "id": "58f4166f",
   "metadata": {},
   "outputs": [
    {
     "data": {
      "text/plain": [
       "(3.050566893424036,\n",
       " 0.5493991051158094,\n",
       " 4,\n",
       " array([[4.09090909, 3.18181818, 2.72727273],\n",
       "        [2.86363636, 2.22727273, 1.90909091],\n",
       "        [2.04545455, 1.59090909, 1.36363636]]))"
      ]
     },
     "execution_count": 124,
     "metadata": {},
     "output_type": "execute_result"
    }
   ],
   "source": [
    "chi2_score,pvalue,dof,exp=stats.chi2_contingency(obs)\n",
    "chi2_score,pvalue,dof,exp"
   ]
  },
  {
   "cell_type": "code",
   "execution_count": 121,
   "id": "192a3847",
   "metadata": {},
   "outputs": [],
   "source": [
    "# Finding Chi-Square critical value for 5% significance level"
   ]
  },
  {
   "cell_type": "code",
   "execution_count": 122,
   "id": "7787fa9b",
   "metadata": {},
   "outputs": [
    {
     "data": {
      "text/plain": [
       "9.487729036781154"
      ]
     },
     "execution_count": 122,
     "metadata": {},
     "output_type": "execute_result"
    }
   ],
   "source": [
    "chi2_critic=stats.chi2.ppf(1-0.05,dof)\n",
    "chi2_critic"
   ]
  },
  {
   "cell_type": "code",
   "execution_count": 125,
   "id": "cd996531",
   "metadata": {},
   "outputs": [
    {
     "name": "stdout",
     "output_type": "stream",
     "text": [
      "We cannot reject the null hypothesis \n",
      "That is, 'Region' and 'Manager' are independent.\n"
     ]
    }
   ],
   "source": [
    "if(chi2_score>chi2_critic and pvalue<0.05):\n",
    "    print('We can reject the null hypothesis \\nThat is, \\'Region\\' and \\'Manager\\' are dependent.')\n",
    "else:\n",
    "    print('We cannot reject the null hypothesis \\nThat is, \\'Region\\' and \\'Manager\\' are independent.')"
   ]
  },
  {
   "cell_type": "code",
   "execution_count": null,
   "id": "929d13e0",
   "metadata": {},
   "outputs": [],
   "source": []
  }
 ],
 "metadata": {
  "kernelspec": {
   "display_name": "Python 3 (ipykernel)",
   "language": "python",
   "name": "python3"
  },
  "language_info": {
   "codemirror_mode": {
    "name": "ipython",
    "version": 3
   },
   "file_extension": ".py",
   "mimetype": "text/x-python",
   "name": "python",
   "nbconvert_exporter": "python",
   "pygments_lexer": "ipython3",
   "version": "3.9.7"
  }
 },
 "nbformat": 4,
 "nbformat_minor": 5
}
